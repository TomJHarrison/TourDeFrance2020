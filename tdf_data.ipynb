{
 "cells": [
  {
   "cell_type": "code",
   "execution_count": null,
   "metadata": {},
   "outputs": [],
   "source": [
    "import os\n",
    "os.getcwd()"
   ]
  },
  {
   "cell_type": "code",
   "execution_count": null,
   "metadata": {},
   "outputs": [],
   "source": [
    "import pandas as pd\n",
    "#import json\n",
    "import matplotlib.pyplot as plt"
   ]
  },
  {
   "cell_type": "code",
   "execution_count": null,
   "metadata": {},
   "outputs": [],
   "source": [
    "def readstagedata(rider, stage):\n",
    "    df = pd.read_json(\"./data/{0}_stage_{1}.json\".format(rider, stage))\n",
    "    \n",
    "    #creating new columns with more intuitive units\n",
    "    df['Speed [kph]'] = df['velocity_smooth'] * 3.6  # m/s to kph\n",
    "    df['Distance [km]'] = df['distance'] / 1000      # m to km\n",
    "    \n",
    "    #remove old columns with less intuitive units\n",
    "    df = df.drop(['distance', 'velocity_smooth'], axis = 1)\n",
    "    \n",
    "    #rename columns\n",
    "    df = df.rename(columns = {\"temp\":\"Temperature\", \"grade_smooth\":\"Gradient [%]\", \"cadence\":\"Cadence\", \"altitude\":\"Altitude [m]\", \"watts_calc\":\"Estimated watts [W]\", \"time\":\"Time [s]\"})\n",
    "    \n",
    "    #reorder columns for easier visualisation\n",
    "    columnstitles = ['Time [s]', 'Distance [km]', 'Speed [kph]', 'Altitude [m]', 'Gradient [%]', 'Estimated watts [W]', 'Temperature', 'Cadence', 'latlng']\n",
    "    df = df.reindex(columns = columnstitles)\n",
    "    \n",
    "    return df"
   ]
  },
  {
   "cell_type": "code",
   "execution_count": null,
   "metadata": {},
   "outputs": [],
   "source": [
    "Kwiat15 = readstagedata('Kwiat', 15)\n",
    "Kaemna16 = readstagedata('Kaemna', 16)\n",
    "Kaemna16.head(10)"
   ]
  },
  {
   "cell_type": "code",
   "execution_count": null,
   "metadata": {},
   "outputs": [],
   "source": [
    "print(Kwiat15.info())"
   ]
  },
  {
   "cell_type": "code",
   "execution_count": null,
   "metadata": {},
   "outputs": [],
   "source": [
    "Kwiat15.describe()"
   ]
  },
  {
   "cell_type": "code",
   "execution_count": null,
   "metadata": {},
   "outputs": [],
   "source": [
    "fig, (ax1, ax2) = plt.subplots(2, 1, figsize = (10, 8))\n",
    "Kwiat15.plot(x = 'Distance [km]', y = 'Altitude [m]', ax = ax1, legend = False)\n",
    "Kwiat15.plot(x = 'Distance [km]', y = 'Speed [kph]', ax = ax2, legend = False)\n",
    "\n",
    "ax1.set_xlabel('Distance [km]')\n",
    "ax1.set_ylabel('Altitude [m]')\n",
    "ax2.set_xlabel('Distance [km]')\n",
    "ax2.set_ylabel('Speed [kph]')\n",
    "\n",
    "fig.subplots_adjust(hspace = 0.2)"
   ]
  },
  {
   "cell_type": "code",
   "execution_count": null,
   "metadata": {},
   "outputs": [],
   "source": []
  },
  {
   "cell_type": "code",
   "execution_count": null,
   "metadata": {},
   "outputs": [],
   "source": []
  }
 ],
 "metadata": {
  "kernelspec": {
   "display_name": "Python 3 (ipykernel)",
   "language": "python",
   "name": "python3"
  },
  "language_info": {
   "codemirror_mode": {
    "name": "ipython",
    "version": 3
   },
   "file_extension": ".py",
   "mimetype": "text/x-python",
   "name": "python",
   "nbconvert_exporter": "python",
   "pygments_lexer": "ipython3",
   "version": "3.9.13"
  }
 },
 "nbformat": 4,
 "nbformat_minor": 4
}
